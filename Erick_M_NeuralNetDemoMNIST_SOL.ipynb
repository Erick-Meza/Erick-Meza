{
  "nbformat": 4,
  "nbformat_minor": 0,
  "metadata": {
    "colab": {
      "provenance": [],
      "gpuType": "T4",
      "include_colab_link": true
    },
    "kernelspec": {
      "name": "python3",
      "display_name": "Python 3"
    },
    "language_info": {
      "name": "python"
    }
  },
  "cells": [
    {
      "cell_type": "markdown",
      "metadata": {
        "id": "view-in-github",
        "colab_type": "text"
      },
      "source": [
        "<a href=\"https://colab.research.google.com/github/Erick-Meza/Erick-Meza/blob/main/Erick_M_NeuralNetDemoMNIST_SOL.ipynb\" target=\"_parent\"><img src=\"https://colab.research.google.com/assets/colab-badge.svg\" alt=\"Open In Colab\"/></a>"
      ]
    },
    {
      "cell_type": "markdown",
      "source": [
        "# Day 3: Training a model with PyTorch - Handwriting Detection\n",
        "\n",
        "Welcome to day 3 of IOAI Canada training!\n",
        "\n",
        "Today, we will be training our first neural network model using PyTorch. Using the MNIST database, we will create and train a model that will detect handwritten digits from 0-9.\n",
        "\n",
        "The parts of the code you will write will be marked with \"TO-DO\". Ensure you pay attention to the lecture on how to write the code.\n",
        "\n",
        "**Please make a copy of this notebook so your changes are saved.**\n",
        "\n",
        "If you have any questions, do not hesitate to ask questions in the zoom call."
      ],
      "metadata": {
        "id": "YzRPzBJ_PygS"
      }
    },
    {
      "cell_type": "code",
      "execution_count": 1,
      "metadata": {
        "id": "0YZPcxQNGeAL"
      },
      "outputs": [],
      "source": [
        "import numpy as np\n",
        "import torch\n",
        "import torchvision\n",
        "import matplotlib.pyplot as plt\n",
        "from torchvision import datasets, models, transforms\n",
        "from torch import nn, optim"
      ]
    },
    {
      "cell_type": "markdown",
      "source": [
        "## Step 1: Downloading and preparing the data\n",
        "\n",
        "Objectives:\n",
        "- Setup two datasets - one for training and one for validation\n",
        "- Creating dataloaders for both datasets to streamline training and validation"
      ],
      "metadata": {
        "id": "5BaoFXlzeaAr"
      }
    },
    {
      "cell_type": "code",
      "source": [
        "# TO-DO: Download the MNIST dataset and create dataloaders for training and testing.\n",
        "\n",
        "batch_size = 100\n",
        "\n",
        "# Download the MNIST datasets, and assign them to a training set and testing set\n",
        "train_dataset = datasets.MNIST(\n",
        "    root='train', # The path where the files are stored\n",
        "    train=True, # Are we training or testing? Seperate data is used for either case.\n",
        "    transform=transforms.ToTensor(), # Converts the data to a tensor that is readable by PyTorch\n",
        "    download=True # Indicates we need to download the data\n",
        ")\n",
        "\n",
        "test_dataset = datasets.MNIST(\n",
        "    root='test',\n",
        "    # TO-DO: fill in the rest of the parameters here\n",
        "    train=False, # Are we training or testing? Seperate data is used for either case.\n",
        "    transform=transforms.ToTensor(), # Converts the data to a tensor that is readable by PyTorch\n",
        "    download=True # Indicates we need to download the data\n",
        ")\n",
        "\n",
        "# Create dataloaders for training and testing, so we can easily load data when training and testing\n",
        "train_loader = torch.utils.data.DataLoader(\n",
        "    dataset=train_dataset, # The dataset used for this loader\n",
        "    batch_size=batch_size, # The batch size used (more details later)\n",
        "    shuffle=True # Shuffles the data\n",
        ")\n",
        "\n",
        "# TO-DO: create a new loader called test_loader that loads the data from test_dataset\n",
        "test_loader = torch.utils.data.DataLoader(\n",
        "    dataset=test_dataset, # The dataset used for this loader\n",
        "    batch_size=batch_size, # The batch size used (more details later)\n",
        "    shuffle=True # Shuffles the data\n",
        ")"
      ],
      "metadata": {
        "id": "7T6QSjHjHFXI",
        "outputId": "a6641c55-ad47-4269-835e-306479fa0c10",
        "colab": {
          "base_uri": "https://localhost:8080/"
        },
        "collapsed": true
      },
      "execution_count": 2,
      "outputs": [
        {
          "output_type": "stream",
          "name": "stderr",
          "text": [
            "100%|██████████| 9.91M/9.91M [00:00<00:00, 17.3MB/s]\n",
            "100%|██████████| 28.9k/28.9k [00:00<00:00, 481kB/s]\n",
            "100%|██████████| 1.65M/1.65M [00:00<00:00, 4.41MB/s]\n",
            "100%|██████████| 4.54k/4.54k [00:00<00:00, 4.79MB/s]\n",
            "100%|██████████| 9.91M/9.91M [00:00<00:00, 17.6MB/s]\n",
            "100%|██████████| 28.9k/28.9k [00:00<00:00, 478kB/s]\n",
            "100%|██████████| 1.65M/1.65M [00:00<00:00, 4.45MB/s]\n",
            "100%|██████████| 4.54k/4.54k [00:00<00:00, 7.62MB/s]\n"
          ]
        }
      ]
    },
    {
      "cell_type": "markdown",
      "source": [
        "## Step 2: Display an image\n",
        "\n",
        "To ensure that our dataset works, we will use the matplotlib library to display one of the images in the dataset."
      ],
      "metadata": {
        "id": "90JpN74ze2QI"
      }
    },
    {
      "cell_type": "code",
      "source": [
        "# TO-DO: Display one image from the training dataset using matplotlib.\n",
        "plt.imshow(train_dataset.data[0], cmap='gray') # cmap = color map\n",
        "plt.title(train_dataset.targets[0])\n",
        "plt.show()"
      ],
      "metadata": {
        "id": "a2BbzkZDH7RM",
        "outputId": "80a17433-a72e-44aa-9caf-49ecdc125f47",
        "colab": {
          "base_uri": "https://localhost:8080/",
          "height": 452
        }
      },
      "execution_count": 3,
      "outputs": [
        {
          "output_type": "display_data",
          "data": {
            "text/plain": [
              "<Figure size 640x480 with 1 Axes>"
            ],
            "image/png": "[encoded data removed]"
          },
          "metadata": {}
        }
      ]
    },
    {
      "cell_type": "markdown",
      "source": [
        "## Step 3: Defining the model, loss function, and optimizer\n",
        "\n",
        "Here, we need to specify the device that will be used (GPU or CPU)\n",
        "\n",
        "We will create a very simple neural network, passing each pixel in the image (28x28) as an input. The network has an output of 10, correspoinding to the 10 digits.\n",
        "\n",
        "The loss function dictates how the loss, or how correct/incorrect the model is, is calculated.\n",
        "\n",
        "The optmizer uses the calculated loss, and modifies the weights of the neural network to reduce this loss."
      ],
      "metadata": {
        "id": "D5WgV812fzqg"
      }
    },
    {
      "cell_type": "code",
      "source": [
        "# TO-DO: Initialize the architecture of the device, model, loss function and optimizer\n",
        "device = torch.device(\"cuda:0\" if torch.cuda.is_available() else \"cpu\")\n",
        "model = nn.Sequential(nn.Linear(28*28, 28), nn.Linear(28,10)).to(device)\n",
        "loss_fn = nn.CrossEntropyLoss()\n",
        "optimizer = optim.SGD(model.parameters(), lr = 0.005)"
      ],
      "metadata": {
        "id": "PhztTPhFIGkM",
        "collapsed": true
      },
      "execution_count": 4,
      "outputs": []
    },
    {
      "cell_type": "markdown",
      "source": [
        "## Step 4: Training the model\n",
        "\n",
        "For each batch of images:\n",
        "- Flatten each image, so that it becomes an array of pixels that can be fed into the network\n",
        "- Get the current model's predictions for each image\n",
        "- Determine how well the model did by calculating its loss. The smaller the loss, the better the model.\n",
        "- Backpropagate the loss and modify the weights of the network.\n",
        "\n",
        "These steps are repeated for every batch of images (in our case, every 100 images, the loss is calculated and weights are changed).\n",
        "\n",
        "Every time the program iterates through the entire dataset, it goes through *one* epoch. Here, we will iterate through the dataset 10 times."
      ],
      "metadata": {
        "id": "8twDH-tdgjUB"
      }
    },
    {
      "cell_type": "code",
      "source": [
        "# Training the model\n",
        "# TO-DO: Fill in the blanks\n",
        "\n",
        "# Initial settings - number of epochs\n",
        "num_epochs = 10\n",
        "\n",
        "# Loop through the entire dataset num_epochs times\n",
        "for epoch in range(num_epochs):\n",
        "\n",
        "  model.train() # Set the model to train mode\n",
        "\n",
        "  for i, data in enumerate(train_loader): # Loop through for every batch in _______\n",
        "\n",
        "    # Seperate the data into images and labels\n",
        "    images, labels = data\n",
        "\n",
        "    # Send the image/label tensors to the GPU\n",
        "    images = images.to(device)\n",
        "    labels = labels.to(device)\n",
        "\n",
        "    # TO-DO: The following 6 lines are out of order. Re-arrange them so that they are in order.\n",
        "    # Correct order of operations\n",
        "    images = images.view(images.size(0), -1) # Reshape images before forward pass\n",
        "\n",
        "    pred = model(images) # Perform the forward pass\n",
        "    loss = loss_fn(pred, labels) # Calculate the loss\n",
        "    loss.backward() # Calculate the gradients\n",
        "    optimizer.step() # Update the model's parameters\n",
        "\n",
        "    optimizer.zero_grad() # Zero out gradients before calculating new ones\n",
        "\n",
        "    # TO-DO: Add to this code so that for every 100 batches, the current epoch, batch and loss is printed.\n",
        "    if (i+1) % 100 == 0:\n",
        "      print(f\"Epoch: {epoch+1}/{num_epochs}, Batch: {i+1}, Loss: {loss.item():}\")\n"
      ],
      "metadata": {
        "id": "RtdyKvzYJoEf",
        "outputId": "13de215c-0e48-4c7b-e69b-9e6abed58c52",
        "colab": {
          "base_uri": "https://localhost:8080/"
        }
      },
      "execution_count": 5,
      "outputs": [
        {
          "output_type": "stream",
          "name": "stdout",
          "text": [
            "Epoch: 1/10, Batch: 100, Loss: 2.1316308975219727\n",
            "Epoch: 1/10, Batch: 200, Loss: 1.9357924461364746\n",
            "Epoch: 1/10, Batch: 300, Loss: 1.7967420816421509\n",
            "Epoch: 1/10, Batch: 400, Loss: 1.5647168159484863\n",
            "Epoch: 1/10, Batch: 500, Loss: 1.4346052408218384\n",
            "Epoch: 1/10, Batch: 600, Loss: 1.233393669128418\n",
            "Epoch: 2/10, Batch: 100, Loss: 1.144642949104309\n",
            "Epoch: 2/10, Batch: 200, Loss: 1.1394274234771729\n",
            "Epoch: 2/10, Batch: 300, Loss: 0.9881893396377563\n",
            "Epoch: 2/10, Batch: 400, Loss: 0.8089888691902161\n",
            "Epoch: 2/10, Batch: 500, Loss: 0.9408512115478516\n",
            "Epoch: 2/10, Batch: 600, Loss: 0.7489108443260193\n",
            "Epoch: 3/10, Batch: 100, Loss: 0.6987536549568176\n",
            "Epoch: 3/10, Batch: 200, Loss: 0.7234793901443481\n",
            "Epoch: 3/10, Batch: 300, Loss: 0.7138181924819946\n",
            "Epoch: 3/10, Batch: 400, Loss: 0.6880939602851868\n",
            "Epoch: 3/10, Batch: 500, Loss: 0.6913455724716187\n",
            "Epoch: 3/10, Batch: 600, Loss: 0.6261639595031738\n",
            "Epoch: 4/10, Batch: 100, Loss: 0.6827905774116516\n",
            "Epoch: 4/10, Batch: 200, Loss: 0.6921890377998352\n",
            "Epoch: 4/10, Batch: 300, Loss: 0.5868324041366577\n",
            "Epoch: 4/10, Batch: 400, Loss: 0.5116112232208252\n",
            "Epoch: 4/10, Batch: 500, Loss: 0.441804438829422\n",
            "Epoch: 4/10, Batch: 600, Loss: 0.3857850134372711\n",
            "Epoch: 5/10, Batch: 100, Loss: 0.607252836227417\n",
            "Epoch: 5/10, Batch: 200, Loss: 0.6023532748222351\n",
            "Epoch: 5/10, Batch: 300, Loss: 0.5638455152511597\n",
            "Epoch: 5/10, Batch: 400, Loss: 0.5252072215080261\n",
            "Epoch: 5/10, Batch: 500, Loss: 0.49670642614364624\n",
            "Epoch: 5/10, Batch: 600, Loss: 0.43010008335113525\n",
            "Epoch: 6/10, Batch: 100, Loss: 0.48141685128211975\n",
            "Epoch: 6/10, Batch: 200, Loss: 0.35462477803230286\n",
            "Epoch: 6/10, Batch: 300, Loss: 0.5761513710021973\n",
            "Epoch: 6/10, Batch: 400, Loss: 0.4989674687385559\n",
            "Epoch: 6/10, Batch: 500, Loss: 0.3937709927558899\n",
            "Epoch: 6/10, Batch: 600, Loss: 0.5276968479156494\n",
            "Epoch: 7/10, Batch: 100, Loss: 0.38804367184638977\n",
            "Epoch: 7/10, Batch: 200, Loss: 0.3753873407840729\n",
            "Epoch: 7/10, Batch: 300, Loss: 0.35387787222862244\n",
            "Epoch: 7/10, Batch: 400, Loss: 0.46928322315216064\n",
            "Epoch: 7/10, Batch: 500, Loss: 0.3476707339286804\n",
            "Epoch: 7/10, Batch: 600, Loss: 0.3519626259803772\n",
            "Epoch: 8/10, Batch: 100, Loss: 0.3469574749469757\n",
            "Epoch: 8/10, Batch: 200, Loss: 0.33446842432022095\n",
            "Epoch: 8/10, Batch: 300, Loss: 0.3655630946159363\n",
            "Epoch: 8/10, Batch: 400, Loss: 0.3958064019680023\n",
            "Epoch: 8/10, Batch: 500, Loss: 0.42872852087020874\n",
            "Epoch: 8/10, Batch: 600, Loss: 0.34816062450408936\n",
            "Epoch: 9/10, Batch: 100, Loss: 0.3318299353122711\n",
            "Epoch: 9/10, Batch: 200, Loss: 0.39634332060813904\n",
            "Epoch: 9/10, Batch: 300, Loss: 0.36135342717170715\n",
            "Epoch: 9/10, Batch: 400, Loss: 0.5836284756660461\n",
            "Epoch: 9/10, Batch: 500, Loss: 0.3580191433429718\n",
            "Epoch: 9/10, Batch: 600, Loss: 0.4848981201648712\n",
            "Epoch: 10/10, Batch: 100, Loss: 0.3132513761520386\n",
            "Epoch: 10/10, Batch: 200, Loss: 0.3238185942173004\n",
            "Epoch: 10/10, Batch: 300, Loss: 0.41875597834587097\n",
            "Epoch: 10/10, Batch: 400, Loss: 0.38013535737991333\n",
            "Epoch: 10/10, Batch: 500, Loss: 0.24233846366405487\n",
            "Epoch: 10/10, Batch: 600, Loss: 0.3372562825679779\n"
          ]
        }
      ]
    },
    {
      "cell_type": "markdown",
      "source": [
        "## Step 5: Evaluate the model\n",
        "\n",
        "Now that our model is trained, let's see how well our model performs against a dataset it hasn't seen before - the testing dataset.\n",
        "\n",
        "Here, we want to compare the model's prediction for the image with the actual image label (so if an image contains the number 9, we want the model to predict a 9)\n",
        "\n",
        "We calculate the accuracy of each batch using the test_loader, and then evaluate the total accuracy by calculating the average accuracy across all batches."
      ],
      "metadata": {
        "id": "kV9ZsAP1lbtG"
      }
    },
    {
      "cell_type": "code",
      "source": [
        "# Evaluation\n",
        "\n",
        "model.eval() # Set the model to evaluation mode\n",
        "\n",
        "with torch.no_grad(): # Let PyTorch know to NOT modify the gradients (used to change weights, we don't want to do that here)\n",
        "\n",
        "    total_accuracy = 0 # Total accuracy used to calculate average batch accuracy at the end\n",
        "    for i, data in enumerate(test_loader): # Loop through for every batch in test_loader\n",
        "\n",
        "        # TO-DO: Output the model prediction for this batch into a variable called test_output. Refer to step 4 on how to do this.\n",
        "         # Send the image/label tensors to the GPU\n",
        "        images = images.to(device)\n",
        "        labels = labels.to(device)\n",
        "        images = images.view(images.size(0), -1)\n",
        "        # TO-DO: Output the model prediction for this batch into a variable called test_output.\n",
        "        test_output = model(images)\n",
        "\n",
        "        pred_y = torch.max(test_output, 1)[1].data.squeeze() # Get the class which has the highest probability (what number the model thinks the image corresponds to)\n",
        "        batch_accuracy = (pred_y == labels).sum().item() / float(labels.size(0)) # Determines the accuracy of the model for this batch\n",
        "        total_accuracy += batch_accuracy # Adds to the concurent accuracy\n",
        "        i += 1\n",
        "\n",
        "    # TO-DO: Complete this line so that it calculates the average accuracy across all batches\n",
        "    accuracy = total_accuracy / len(test_loader)\n",
        "\n",
        "print(f\"Test Accuracy of the model on the 10000 test images: {accuracy:.3f}\")\n"
      ],
      "metadata": {
        "id": "zb9mhLIsNyty",
        "outputId": "92b1ebb7-be14-4d79-ee60-2be209f53113",
        "colab": {
          "base_uri": "https://localhost:8080/"
        }
      },
      "execution_count": 6,
      "outputs": [
        {
          "output_type": "stream",
          "name": "stdout",
          "text": [
            "Test Accuracy of the model on the 10000 test images: 0.900\n"
          ]
        }
      ]
    },
    {
      "cell_type": "markdown",
      "source": [
        "## Step 6: Our own handwriting data\n",
        "\n",
        "Now, we will import our own handwriting, and see if the model can recognize it.\n",
        "\n",
        "To do this, you need to create a 28x28 image with a black background using Microsoft Paint, or any other software.\n",
        "\n",
        "Then, you will need to mount your Google Drive so that Google Colab can access files on your drive. Pay attention to the lecture on how to do this.\n",
        "\n",
        "Afterwards, open the image, preprocess it (convert to grayscale and make it to a tensor) so it can be read by our model, and output its prediction."
      ],
      "metadata": {
        "id": "Lcmtr0urmYVh"
      }
    },
    {
      "cell_type": "code",
      "source": [
        "# Import custom image\n",
        "import os\n",
        "from PIL import Image\n",
        "import torchvision.transforms as transforms\n",
        "\n",
        "# Open the image (TO-DO: Put the link to the image here)\n",
        "image_path = \"/content/Gotta be number one/Three.png\"\n",
        "image = Image.open(image_path)\n",
        "\n",
        "# Set model to evaluation mode\n",
        "model.eval()\n",
        "\n",
        "# Define a transform to convert the image to a tensor (TO-DO: Fill in the blanks)\n",
        "preprocess = transforms.Compose([\n",
        "    transforms.Grayscale(),  # Convert the image to grayscale\n",
        "    transforms.ToTensor(),   # Convert the image to a tensor\n",
        "])\n",
        "\n",
        "# Apply the transform to the image\n",
        "image_tensor = preprocess(image)\n",
        "image_tensor = image_tensor.view(image_tensor.size(0), -1) # Reshape to (batch_size, input_features)\n",
        "with torch.no_grad():\n",
        "# TO-DO: From this new image_tensor, complete the code so that the model predicts the number of thiss image_tensor.\n",
        "  image_tensor = image_tensor.to(device)  # Send tensor to device (GPU or CPU)\n",
        "  output = model(image_tensor)\n",
        "  pred = torch.max(output, 1)[1].item()\n",
        "print(pred);\n",
        "plt.imshow(image, cmap='gray') # cmap = color map\n",
        "plt.title(pred)\n",
        "plt.show()"
      ],
      "metadata": {
        "colab": {
          "base_uri": "https://localhost:8080/",
          "height": 469
        },
        "id": "ZL-ulLFTeHCS",
        "outputId": "abe880ef-25e9-49df-c340-181dd9a58e3d"
      },
      "execution_count": 10,
      "outputs": [
        {
          "output_type": "stream",
          "name": "stdout",
          "text": [
            "3\n"
          ]
        },
        {
          "output_type": "display_data",
          "data": {
            "text/plain": [
              "<Figure size 640x480 with 1 Axes>"
            ],
            "image/png": "[encoded data removed]"
          },
          "metadata": {}
        }
      ]
    },
    {
      "cell_type": "code",
      "source": [
        "from google.colab import drive\n",
        "drive.mount('/content/drive')"
      ],
      "metadata": {
        "id": "B_zMVTu9Gj8G"
      },
      "execution_count": null,
      "outputs": []
    },
    {
      "cell_type": "markdown",
      "source": [
        "## Step 7: Save & Load our model\n",
        "\n",
        "We don't want to train our model every time we open up our program. Saving our model allows us to retrieve this model at a later time and use it.\n",
        "\n",
        "IMPORTANT: When loading the model, the architecture of the model must be defined first before loading."
      ],
      "metadata": {
        "id": "Ui50ucB8nFu8"
      }
    },
    {
      "cell_type": "code",
      "source": [
        "# TO-DO: Save the model to Google Drive\n",
        "torch.save(model.state_dict(), \"/content/ioaiModel.pth\")"
      ],
      "metadata": {
        "id": "72VSf4EZU7z8"
      },
      "execution_count": null,
      "outputs": []
    },
    {
      "cell_type": "code",
      "source": [
        "model = nn.Sequential(nn.Linear(28*28,28), nn.Linear(28, 10)).to(device)\n",
        "model.load_state_dict(torch.load(\"/content/ioaiModel.pth\"))"
      ],
      "metadata": {
        "id": "paPLx0wxU9q-"
      },
      "execution_count": null,
      "outputs": []
    },
    {
      "cell_type": "code",
      "source": [],
      "metadata": {
        "id": "P7MusF-oE3dG"
      },
      "execution_count": null,
      "outputs": []
    }
  ]
}