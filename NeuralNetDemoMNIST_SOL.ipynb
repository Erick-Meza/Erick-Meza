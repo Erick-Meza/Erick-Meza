{
  "nbformat": 4,
  "nbformat_minor": 0,
  "metadata": {
    "colab": {
      "provenance": [],
      "gpuType": "T4",
      "include_colab_link": true
    },
    "kernelspec": {
      "name": "python3",
      "display_name": "Python 3"
    },
    "language_info": {
      "name": "python"
    }
  },
  "cells": [
    {
      "cell_type": "markdown",
      "metadata": {
        "id": "view-in-github",
        "colab_type": "text"
      },
      "source": [
        "<a href=\"https://colab.research.google.com/github/Erick-Meza/Erick-Meza/blob/main/NeuralNetDemoMNIST_SOL.ipynb\" target=\"_parent\"><img src=\"https://colab.research.google.com/assets/colab-badge.svg\" alt=\"Open In Colab\"/></a>"
      ]
    },
    {
      "cell_type": "markdown",
      "source": [
        "# Day 3: Training a model with PyTorch - Handwriting Detection\n",
        "\n",
        "Welcome to day 3 of IOAI Canada training!\n",
        "\n",
        "Today, we will be training our first neural network model using PyTorch. Using the MNIST database, we will create and train a model that will detect handwritten digits from 0-9.\n",
        "\n",
        "The parts of the code you will write will be marked with \"TO-DO\". Ensure you pay attention to the lecture on how to write the code.\n",
        "\n",
        "**Please make a copy of this notebook so your changes are saved.**\n",
        "\n",
        "If you have any questions, do not hesitate to ask questions in the zoom call."
      ],
      "metadata": {
        "id": "YzRPzBJ_PygS"
      }
    },
    {
      "cell_type": "code",
      "execution_count": null,
      "metadata": {
        "id": "0YZPcxQNGeAL"
      },
      "outputs": [],
      "source": [
        "import numpy as np\n",
        "import torch\n",
        "import torchvision\n",
        "import matplotlib.pyplot as plt\n",
        "from torchvision import datasets, models, transforms\n",
        "from torch import nn, optim"
      ]
    },
    {
      "cell_type": "markdown",
      "source": [
        "## Step 1: Downloading and preparing the data\n",
        "\n",
        "Objectives:\n",
        "- Setup two datasets - one for training and one for validation\n",
        "- Creating dataloaders for both datasets to streamline training and validation"
      ],
      "metadata": {
        "id": "5BaoFXlzeaAr"
      }
    },
    {
      "cell_type": "code",
      "source": [
        "# TO-DO: Download the MNIST dataset and create dataloaders for training and testing.\n",
        "\n",
        "batch_size = 100\n",
        "\n",
        "# Download the MNIST datasets, and assign them to a training set and testing set\n",
        "train_dataset = datasets.MNIST(\n",
        "    root='train', # The path where the files are stored\n",
        "    train=True, # Are we training or testing? Seperate data is used for either case.\n",
        "    transform=transforms.ToTensor(), # Converts the data to a tensor that is readable by PyTorch\n",
        "    download=True # Indicates we need to download the data\n",
        ")\n",
        "\n",
        "test_dataset = datasets.MNIST(\n",
        "    root='test',\n",
        "    # TO-DO: fill in the rest of the parameters here\n",
        "    train=False, # Are we training or testing? Seperate data is used for either case.\n",
        "    transform=transforms.ToTensor(), # Converts the data to a tensor that is readable by PyTorch\n",
        "    download=True # Indicates we need to download the data\n",
        ")\n",
        "\n",
        "# Create dataloaders for training and testing, so we can easily load data when training and testing\n",
        "train_loader = torch.utils.data.DataLoader(\n",
        "    dataset=train_dataset, # The dataset used for this loader\n",
        "    batch_size=batch_size, # The batch size used (more details later)\n",
        "    shuffle=True # Shuffles the data\n",
        ")\n",
        "\n",
        "# TO-DO: create a new loader called test_loader that loads the data from test_dataset\n",
        "test_loader = torch.utils.data.DataLoader(\n",
        "    dataset=test_dataset, # The dataset used for this loader\n",
        "    batch_size=batch_size, # The batch size used (more details later)\n",
        "    shuffle=True # Shuffles the data\n",
        ")"
      ],
      "metadata": {
        "id": "7T6QSjHjHFXI",
        "outputId": "8f0fb9f4-8f1c-4030-c237-9fe6f2ac41c3",
        "colab": {
          "base_uri": "https://localhost:8080/"
        },
        "collapsed": true
      },
      "execution_count": null,
      "outputs": [
        {
          "output_type": "stream",
          "name": "stderr",
          "text": [
            "100%|██████████| 9.91M/9.91M [00:00<00:00, 52.7MB/s]\n",
            "100%|██████████| 28.9k/28.9k [00:00<00:00, 1.70MB/s]\n",
            "100%|██████████| 1.65M/1.65M [00:00<00:00, 14.7MB/s]\n",
            "100%|██████████| 4.54k/4.54k [00:00<00:00, 7.40MB/s]\n",
            "100%|██████████| 9.91M/9.91M [00:00<00:00, 53.5MB/s]\n",
            "100%|██████████| 28.9k/28.9k [00:00<00:00, 1.77MB/s]\n",
            "100%|██████████| 1.65M/1.65M [00:00<00:00, 14.9MB/s]\n",
            "100%|██████████| 4.54k/4.54k [00:00<00:00, 6.00MB/s]\n"
          ]
        }
      ]
    },
    {
      "cell_type": "markdown",
      "source": [
        "## Step 2: Display an image\n",
        "\n",
        "To ensure that our dataset works, we will use the matplotlib library to display one of the images in the dataset."
      ],
      "metadata": {
        "id": "90JpN74ze2QI"
      }
    },
    {
      "cell_type": "code",
      "source": [
        "# TO-DO: Display one image from the training dataset using matplotlib.\n",
        "plt.imshow(train_dataset.data[0], cmap='gray') # cmap = color map\n",
        "plt.title(train_dataset.targets[0])\n",
        "plt.show()"
      ],
      "metadata": {
        "id": "a2BbzkZDH7RM",
        "outputId": "d70f8154-8d41-4549-80cb-8567631c5685",
        "colab": {
          "base_uri": "https://localhost:8080/",
          "height": 452
        }
      },
      "execution_count": null,
      "outputs": [
        {
          "output_type": "display_data",
          "data": {
            "text/plain": [
              "<Figure size 640x480 with 1 Axes>"
            ],
            "image/png": "[encoded data removed]"
          },
          "metadata": {}
        }
      ]
    },
    {
      "cell_type": "markdown",
      "source": [
        "## Step 3: Defining the model, loss function, and optimizer\n",
        "\n",
        "Here, we need to specify the device that will be used (GPU or CPU)\n",
        "\n",
        "We will create a very simple neural network, passing each pixel in the image (28x28) as an input. The network has an output of 10, correspoinding to the 10 digits.\n",
        "\n",
        "The loss function dictates how the loss, or how correct/incorrect the model is, is calculated.\n",
        "\n",
        "The optmizer uses the calculated loss, and modifies the weights of the neural network to reduce this loss."
      ],
      "metadata": {
        "id": "D5WgV812fzqg"
      }
    },
    {
      "cell_type": "code",
      "source": [
        "# TO-DO: Initialize the architecture of the device, model, loss function and optimizer\n",
        "device = torch.device(\"cuda:0\" if torch.cuda.is_available() else \"cpu\")\n",
        "model = nn.Sequential(nn.Linear(28*28, 28), nn.Linear(28,10)).to(device)\n",
        "loss_fn = nn.CrossEntropyLoss()\n",
        "optimizer = optim.SGD(model.parameters(), lr = 0.005)"
      ],
      "metadata": {
        "id": "PhztTPhFIGkM",
        "collapsed": true
      },
      "execution_count": null,
      "outputs": []
    },
    {
      "cell_type": "markdown",
      "source": [
        "## Step 4: Training the model\n",
        "\n",
        "For each batch of images:\n",
        "- Flatten each image, so that it becomes an array of pixels that can be fed into the network\n",
        "- Get the current model's predictions for each image\n",
        "- Determine how well the model did by calculating its loss. The smaller the loss, the better the model.\n",
        "- Backpropagate the loss and modify the weights of the network.\n",
        "\n",
        "These steps are repeated for every batch of images (in our case, every 100 images, the loss is calculated and weights are changed).\n",
        "\n",
        "Every time the program iterates through the entire dataset, it goes through *one* epoch. Here, we will iterate through the dataset 10 times."
      ],
      "metadata": {
        "id": "8twDH-tdgjUB"
      }
    },
    {
      "cell_type": "code",
      "source": [
        "# Training the model\n",
        "# TO-DO: Fill in the blanks\n",
        "\n",
        "# Initial settings - number of epochs\n",
        "num_epochs = 10\n",
        "\n",
        "# Loop through the entire dataset num_epochs times\n",
        "for epoch in range(num_epochs):\n",
        "\n",
        "  model.train() # Set the model to train mode\n",
        "\n",
        "  for i, data in enumerate(train_loader): # Loop through for every batch in _______\n",
        "\n",
        "    # Seperate the data into images and labels\n",
        "    images, labels = data\n",
        "\n",
        "    # Send the image/label tensors to the GPU\n",
        "    images = images.to(device)\n",
        "    labels = labels.to(device)\n",
        "\n",
        "    # TO-DO: The following 6 lines are out of order. Re-arrange them so that they are in order.\n",
        "    # Correct order of operations\n",
        "    images = images.view(images.size(0), -1) # Reshape images before forward pass\n",
        "\n",
        "    pred = model(images) # Perform the forward pass\n",
        "    loss = loss_fn(pred, labels) # Calculate the loss\n",
        "    loss.backward() # Calculate the gradients\n",
        "    optimizer.step() # Update the model's parameters\n",
        "\n",
        "    optimizer.zero_grad() # Zero out gradients before calculating new ones\n",
        "\n",
        "    # TO-DO: Add to this code so that for every 100 batches, the current epoch, batch and loss is printed.\n",
        "    if (i+1) % 100 == 0:\n",
        "      print(f\"Epoch: {epoch+1}/{num_epochs}, Batch: {i+1}, Loss: {loss.item():}\")\n"
      ],
      "metadata": {
        "id": "RtdyKvzYJoEf",
        "outputId": "8f73b631-a67c-4100-cd57-996fc68399c7",
        "colab": {
          "base_uri": "https://localhost:8080/",
          "height": 530
        }
      },
      "execution_count": null,
      "outputs": [
        {
          "output_type": "stream",
          "name": "stdout",
          "text": [
            "Epoch: 1/10, Batch: 100, Loss: 2.1205341815948486\n",
            "Epoch: 1/10, Batch: 200, Loss: 1.9627799987792969\n",
            "Epoch: 1/10, Batch: 300, Loss: 1.7082089185714722\n",
            "Epoch: 1/10, Batch: 400, Loss: 1.5271964073181152\n",
            "Epoch: 1/10, Batch: 500, Loss: 1.4481779336929321\n",
            "Epoch: 1/10, Batch: 600, Loss: 1.3531490564346313\n",
            "Epoch: 2/10, Batch: 100, Loss: 1.0768141746520996\n",
            "Epoch: 2/10, Batch: 200, Loss: 1.1000183820724487\n",
            "Epoch: 2/10, Batch: 300, Loss: 1.0168532133102417\n",
            "Epoch: 2/10, Batch: 400, Loss: 0.8251692056655884\n"
          ]
        },
        {
          "output_type": "error",
          "ename": "KeyboardInterrupt",
          "evalue": "",
          "traceback": [
            "\u001b[0;31m---------------------------------------------------------------------------\u001b[0m",
            "\u001b[0;31mKeyboardInterrupt\u001b[0m                         Traceback (most recent call last)",
            "\u001b[0;32m<ipython-input-5-36628dd25d91>\u001b[0m in \u001b[0;36m<cell line: 0>\u001b[0;34m()\u001b[0m\n\u001b[1;32m     23\u001b[0m     \u001b[0mimages\u001b[0m \u001b[0;34m=\u001b[0m \u001b[0mimages\u001b[0m\u001b[0;34m.\u001b[0m\u001b[0mview\u001b[0m\u001b[0;34m(\u001b[0m\u001b[0mimages\u001b[0m\u001b[0;34m.\u001b[0m\u001b[0msize\u001b[0m\u001b[0;34m(\u001b[0m\u001b[0;36m0\u001b[0m\u001b[0;34m)\u001b[0m\u001b[0;34m,\u001b[0m \u001b[0;34m-\u001b[0m\u001b[0;36m1\u001b[0m\u001b[0;34m)\u001b[0m \u001b[0;31m# Reshape images before forward pass\u001b[0m\u001b[0;34m\u001b[0m\u001b[0;34m\u001b[0m\u001b[0m\n\u001b[1;32m     24\u001b[0m \u001b[0;34m\u001b[0m\u001b[0m\n\u001b[0;32m---> 25\u001b[0;31m     \u001b[0mpred\u001b[0m \u001b[0;34m=\u001b[0m \u001b[0mmodel\u001b[0m\u001b[0;34m(\u001b[0m\u001b[0mimages\u001b[0m\u001b[0;34m)\u001b[0m \u001b[0;31m# Perform the forward pass\u001b[0m\u001b[0;34m\u001b[0m\u001b[0;34m\u001b[0m\u001b[0m\n\u001b[0m\u001b[1;32m     26\u001b[0m     \u001b[0mloss\u001b[0m \u001b[0;34m=\u001b[0m \u001b[0mloss_fn\u001b[0m\u001b[0;34m(\u001b[0m\u001b[0mpred\u001b[0m\u001b[0;34m,\u001b[0m \u001b[0mlabels\u001b[0m\u001b[0;34m)\u001b[0m \u001b[0;31m# Calculate the loss\u001b[0m\u001b[0;34m\u001b[0m\u001b[0;34m\u001b[0m\u001b[0m\n\u001b[1;32m     27\u001b[0m     \u001b[0mloss\u001b[0m\u001b[0;34m.\u001b[0m\u001b[0mbackward\u001b[0m\u001b[0;34m(\u001b[0m\u001b[0;34m)\u001b[0m \u001b[0;31m# Calculate the gradients\u001b[0m\u001b[0;34m\u001b[0m\u001b[0;34m\u001b[0m\u001b[0m\n",
            "\u001b[0;32m/usr/local/lib/python3.11/dist-packages/torch/nn/modules/module.py\u001b[0m in \u001b[0;36m_wrapped_call_impl\u001b[0;34m(self, *args, **kwargs)\u001b[0m\n\u001b[1;32m   1737\u001b[0m             \u001b[0;32mreturn\u001b[0m \u001b[0mself\u001b[0m\u001b[0;34m.\u001b[0m\u001b[0m_compiled_call_impl\u001b[0m\u001b[0;34m(\u001b[0m\u001b[0;34m*\u001b[0m\u001b[0margs\u001b[0m\u001b[0;34m,\u001b[0m \u001b[0;34m**\u001b[0m\u001b[0mkwargs\u001b[0m\u001b[0;34m)\u001b[0m  \u001b[0;31m# type: ignore[misc]\u001b[0m\u001b[0;34m\u001b[0m\u001b[0;34m\u001b[0m\u001b[0m\n\u001b[1;32m   1738\u001b[0m         \u001b[0;32melse\u001b[0m\u001b[0;34m:\u001b[0m\u001b[0;34m\u001b[0m\u001b[0;34m\u001b[0m\u001b[0m\n\u001b[0;32m-> 1739\u001b[0;31m             \u001b[0;32mreturn\u001b[0m \u001b[0mself\u001b[0m\u001b[0;34m.\u001b[0m\u001b[0m_call_impl\u001b[0m\u001b[0;34m(\u001b[0m\u001b[0;34m*\u001b[0m\u001b[0margs\u001b[0m\u001b[0;34m,\u001b[0m \u001b[0;34m**\u001b[0m\u001b[0mkwargs\u001b[0m\u001b[0;34m)\u001b[0m\u001b[0;34m\u001b[0m\u001b[0;34m\u001b[0m\u001b[0m\n\u001b[0m\u001b[1;32m   1740\u001b[0m \u001b[0;34m\u001b[0m\u001b[0m\n\u001b[1;32m   1741\u001b[0m     \u001b[0;31m# torchrec tests the code consistency with the following code\u001b[0m\u001b[0;34m\u001b[0m\u001b[0;34m\u001b[0m\u001b[0m\n",
            "\u001b[0;32m/usr/local/lib/python3.11/dist-packages/torch/nn/modules/module.py\u001b[0m in \u001b[0;36m_call_impl\u001b[0;34m(self, *args, **kwargs)\u001b[0m\n\u001b[1;32m   1748\u001b[0m                 \u001b[0;32mor\u001b[0m \u001b[0m_global_backward_pre_hooks\u001b[0m \u001b[0;32mor\u001b[0m \u001b[0m_global_backward_hooks\u001b[0m\u001b[0;34m\u001b[0m\u001b[0;34m\u001b[0m\u001b[0m\n\u001b[1;32m   1749\u001b[0m                 or _global_forward_hooks or _global_forward_pre_hooks):\n\u001b[0;32m-> 1750\u001b[0;31m             \u001b[0;32mreturn\u001b[0m \u001b[0mforward_call\u001b[0m\u001b[0;34m(\u001b[0m\u001b[0;34m*\u001b[0m\u001b[0margs\u001b[0m\u001b[0;34m,\u001b[0m \u001b[0;34m**\u001b[0m\u001b[0mkwargs\u001b[0m\u001b[0;34m)\u001b[0m\u001b[0;34m\u001b[0m\u001b[0;34m\u001b[0m\u001b[0m\n\u001b[0m\u001b[1;32m   1751\u001b[0m \u001b[0;34m\u001b[0m\u001b[0m\n\u001b[1;32m   1752\u001b[0m         \u001b[0mresult\u001b[0m \u001b[0;34m=\u001b[0m \u001b[0;32mNone\u001b[0m\u001b[0;34m\u001b[0m\u001b[0;34m\u001b[0m\u001b[0m\n",
            "\u001b[0;32m/usr/local/lib/python3.11/dist-packages/torch/nn/modules/container.py\u001b[0m in \u001b[0;36mforward\u001b[0;34m(self, input)\u001b[0m\n\u001b[1;32m    248\u001b[0m     \u001b[0;32mdef\u001b[0m \u001b[0mforward\u001b[0m\u001b[0;34m(\u001b[0m\u001b[0mself\u001b[0m\u001b[0;34m,\u001b[0m \u001b[0minput\u001b[0m\u001b[0;34m)\u001b[0m\u001b[0;34m:\u001b[0m\u001b[0;34m\u001b[0m\u001b[0;34m\u001b[0m\u001b[0m\n\u001b[1;32m    249\u001b[0m         \u001b[0;32mfor\u001b[0m \u001b[0mmodule\u001b[0m \u001b[0;32min\u001b[0m \u001b[0mself\u001b[0m\u001b[0;34m:\u001b[0m\u001b[0;34m\u001b[0m\u001b[0;34m\u001b[0m\u001b[0m\n\u001b[0;32m--> 250\u001b[0;31m             \u001b[0minput\u001b[0m \u001b[0;34m=\u001b[0m \u001b[0mmodule\u001b[0m\u001b[0;34m(\u001b[0m\u001b[0minput\u001b[0m\u001b[0;34m)\u001b[0m\u001b[0;34m\u001b[0m\u001b[0;34m\u001b[0m\u001b[0m\n\u001b[0m\u001b[1;32m    251\u001b[0m         \u001b[0;32mreturn\u001b[0m \u001b[0minput\u001b[0m\u001b[0;34m\u001b[0m\u001b[0;34m\u001b[0m\u001b[0m\n\u001b[1;32m    252\u001b[0m \u001b[0;34m\u001b[0m\u001b[0m\n",
            "\u001b[0;32m/usr/local/lib/python3.11/dist-packages/torch/nn/modules/module.py\u001b[0m in \u001b[0;36m_wrapped_call_impl\u001b[0;34m(self, *args, **kwargs)\u001b[0m\n\u001b[1;32m   1737\u001b[0m             \u001b[0;32mreturn\u001b[0m \u001b[0mself\u001b[0m\u001b[0;34m.\u001b[0m\u001b[0m_compiled_call_impl\u001b[0m\u001b[0;34m(\u001b[0m\u001b[0;34m*\u001b[0m\u001b[0margs\u001b[0m\u001b[0;34m,\u001b[0m \u001b[0;34m**\u001b[0m\u001b[0mkwargs\u001b[0m\u001b[0;34m)\u001b[0m  \u001b[0;31m# type: ignore[misc]\u001b[0m\u001b[0;34m\u001b[0m\u001b[0;34m\u001b[0m\u001b[0m\n\u001b[1;32m   1738\u001b[0m         \u001b[0;32melse\u001b[0m\u001b[0;34m:\u001b[0m\u001b[0;34m\u001b[0m\u001b[0;34m\u001b[0m\u001b[0m\n\u001b[0;32m-> 1739\u001b[0;31m             \u001b[0;32mreturn\u001b[0m \u001b[0mself\u001b[0m\u001b[0;34m.\u001b[0m\u001b[0m_call_impl\u001b[0m\u001b[0;34m(\u001b[0m\u001b[0;34m*\u001b[0m\u001b[0margs\u001b[0m\u001b[0;34m,\u001b[0m \u001b[0;34m**\u001b[0m\u001b[0mkwargs\u001b[0m\u001b[0;34m)\u001b[0m\u001b[0;34m\u001b[0m\u001b[0;34m\u001b[0m\u001b[0m\n\u001b[0m\u001b[1;32m   1740\u001b[0m \u001b[0;34m\u001b[0m\u001b[0m\n\u001b[1;32m   1741\u001b[0m     \u001b[0;31m# torchrec tests the code consistency with the following code\u001b[0m\u001b[0;34m\u001b[0m\u001b[0;34m\u001b[0m\u001b[0m\n",
            "\u001b[0;32m/usr/local/lib/python3.11/dist-packages/torch/nn/modules/module.py\u001b[0m in \u001b[0;36m_call_impl\u001b[0;34m(self, *args, **kwargs)\u001b[0m\n\u001b[1;32m   1741\u001b[0m     \u001b[0;31m# torchrec tests the code consistency with the following code\u001b[0m\u001b[0;34m\u001b[0m\u001b[0;34m\u001b[0m\u001b[0m\n\u001b[1;32m   1742\u001b[0m     \u001b[0;31m# fmt: off\u001b[0m\u001b[0;34m\u001b[0m\u001b[0;34m\u001b[0m\u001b[0m\n\u001b[0;32m-> 1743\u001b[0;31m     \u001b[0;32mdef\u001b[0m \u001b[0m_call_impl\u001b[0m\u001b[0;34m(\u001b[0m\u001b[0mself\u001b[0m\u001b[0;34m,\u001b[0m \u001b[0;34m*\u001b[0m\u001b[0margs\u001b[0m\u001b[0;34m,\u001b[0m \u001b[0;34m**\u001b[0m\u001b[0mkwargs\u001b[0m\u001b[0;34m)\u001b[0m\u001b[0;34m:\u001b[0m\u001b[0;34m\u001b[0m\u001b[0;34m\u001b[0m\u001b[0m\n\u001b[0m\u001b[1;32m   1744\u001b[0m         \u001b[0mforward_call\u001b[0m \u001b[0;34m=\u001b[0m \u001b[0;34m(\u001b[0m\u001b[0mself\u001b[0m\u001b[0;34m.\u001b[0m\u001b[0m_slow_forward\u001b[0m \u001b[0;32mif\u001b[0m \u001b[0mtorch\u001b[0m\u001b[0;34m.\u001b[0m\u001b[0m_C\u001b[0m\u001b[0;34m.\u001b[0m\u001b[0m_get_tracing_state\u001b[0m\u001b[0;34m(\u001b[0m\u001b[0;34m)\u001b[0m \u001b[0;32melse\u001b[0m \u001b[0mself\u001b[0m\u001b[0;34m.\u001b[0m\u001b[0mforward\u001b[0m\u001b[0;34m)\u001b[0m\u001b[0;34m\u001b[0m\u001b[0;34m\u001b[0m\u001b[0m\n\u001b[1;32m   1745\u001b[0m         \u001b[0;31m# If we don't have any hooks, we want to skip the rest of the logic in\u001b[0m\u001b[0;34m\u001b[0m\u001b[0;34m\u001b[0m\u001b[0m\n",
            "\u001b[0;31mKeyboardInterrupt\u001b[0m: "
          ]
        }
      ]
    },
    {
      "cell_type": "markdown",
      "source": [
        "## Step 5: Evaluate the model\n",
        "\n",
        "Now that our model is trained, let's see how well our model performs against a dataset it hasn't seen before - the testing dataset.\n",
        "\n",
        "Here, we want to compare the model's prediction for the image with the actual image label (so if an image contains the number 9, we want the model to predict a 9)\n",
        "\n",
        "We calculate the accuracy of each batch using the test_loader, and then evaluate the total accuracy by calculating the average accuracy across all batches."
      ],
      "metadata": {
        "id": "kV9ZsAP1lbtG"
      }
    },
    {
      "cell_type": "code",
      "source": [
        "# Evaluation\n",
        "\n",
        "model.eval() # Set the model to evaluation mode\n",
        "\n",
        "with torch.no_grad(): # Let PyTorch know to NOT modify the gradients (used to change weights, we don't want to do that here)\n",
        "\n",
        "    total_accuracy = 0 # Total accuracy used to calculate average batch accuracy at the end\n",
        "    for i, data in enumerate(test_loader): # Loop through for every batch in test_loader\n",
        "\n",
        "        # TO-DO: Output the model prediction for this batch into a variable called test_output. Refer to step 4 on how to do this.\n",
        "         # Send the image/label tensors to the GPU\n",
        "        images = images.to(device)\n",
        "        labels = labels.to(device)\n",
        "        images = images.view(images.size(0), -1)\n",
        "        # TO-DO: Output the model prediction for this batch into a variable called test_output.\n",
        "        test_output = model(images)\n",
        "\n",
        "        pred_y = torch.max(test_output, 1)[1].data.squeeze() # Get the class which has the highest probability (what number the model thinks the image corresponds to)\n",
        "        batch_accuracy = (pred_y == labels).sum().item() / float(labels.size(0)) # Determines the accuracy of the model for this batch\n",
        "        total_accuracy += batch_accuracy # Adds to the concurent accuracy\n",
        "        i += 1\n",
        "\n",
        "    # TO-DO: Complete this line so that it calculates the average accuracy across all batches\n",
        "    accuracy = total_accuracy / len(test_loader)\n",
        "\n",
        "print(f\"Test Accuracy of the model on the 10000 test images: {accuracy:.3f}\")\n"
      ],
      "metadata": {
        "id": "zb9mhLIsNyty",
        "outputId": "ccd2c1f9-a660-4646-e08d-e8de92208f4e",
        "colab": {
          "base_uri": "https://localhost:8080/"
        }
      },
      "execution_count": null,
      "outputs": [
        {
          "output_type": "stream",
          "name": "stdout",
          "text": [
            "Test Accuracy of the model on the 10000 test images: 0.770\n"
          ]
        }
      ]
    },
    {
      "cell_type": "markdown",
      "source": [
        "## Step 6: Our own handwriting data\n",
        "\n",
        "Now, we will import our own handwriting, and see if the model can recognize it.\n",
        "\n",
        "To do this, you need to create a 28x28 image with a black background using Microsoft Paint, or any other software.\n",
        "\n",
        "Then, you will need to mount your Google Drive so that Google Colab can access files on your drive. Pay attention to the lecture on how to do this.\n",
        "\n",
        "Afterwards, open the image, preprocess it (convert to grayscale and make it to a tensor) so it can be read by our model, and output its prediction."
      ],
      "metadata": {
        "id": "Lcmtr0urmYVh"
      }
    },
    {
      "cell_type": "code",
      "source": [
        "# Import custom image\n",
        "import os\n",
        "from PIL import Image\n",
        "import torchvision.transforms as transforms\n",
        "\n",
        "# Open the image (TO-DO: Put the link to the image here)\n",
        "image_path = \"/content/drive/MyDrive/9.png\"\n",
        "image = Image.open(image_path)\n",
        "\n",
        "# Set model to evaluation mode\n",
        "model.eval()\n",
        "\n",
        "# Define a transform to convert the image to a tensor (TO-DO: Fill in the blanks)\n",
        "preprocess = transforms.Compose([\n",
        "    transforms.Grayscale(),  # Convert the image to grayscale\n",
        "    transforms.ToTensor(),   # Convert the image to a tensor\n",
        "])\n",
        "\n",
        "# Apply the transform to the image\n",
        "image_tensor = preprocess(image)\n",
        "image_tensor = image_tensor.view(image_tensor.size(0), -1) # Reshape to (batch_size, input_features)\n",
        "with torch.no_grad():\n",
        "# TO-DO: From this new image_tensor, complete the code so that the model predicts the number of thiss image_tensor.\n",
        "  image_tensor = image_tensor.to(device)  # Send tensor to device (GPU or CPU)\n",
        "  output = model(image_tensor)\n",
        "  pred = torch.max(output, 1)[1].item()\n",
        "print(pred);\n",
        "plt.imshow(image, cmap='gray') # cmap = color map\n",
        "plt.title(pred)\n",
        "plt.show()"
      ],
      "metadata": {
        "colab": {
          "base_uri": "https://localhost:8080/",
          "height": 332
        },
        "id": "ZL-ulLFTeHCS",
        "outputId": "a0e69c9c-8016-4a25-ccdf-3e7dad905a68"
      },
      "execution_count": null,
      "outputs": [
        {
          "output_type": "error",
          "ename": "FileNotFoundError",
          "evalue": "[Errno 2] No such file or directory: '/content/drive/MyDrive/9.png'",
          "traceback": [
            "\u001b[0;31m---------------------------------------------------------------------------\u001b[0m",
            "\u001b[0;31mFileNotFoundError\u001b[0m                         Traceback (most recent call last)",
            "\u001b[0;32m<ipython-input-7-ae4259a575cc>\u001b[0m in \u001b[0;36m<cell line: 0>\u001b[0;34m()\u001b[0m\n\u001b[1;32m      6\u001b[0m \u001b[0;31m# Open the image (TO-DO: Put the link to the image here)\u001b[0m\u001b[0;34m\u001b[0m\u001b[0;34m\u001b[0m\u001b[0m\n\u001b[1;32m      7\u001b[0m \u001b[0mimage_path\u001b[0m \u001b[0;34m=\u001b[0m \u001b[0;34m\"/content/drive/MyDrive/9.png\"\u001b[0m\u001b[0;34m\u001b[0m\u001b[0;34m\u001b[0m\u001b[0m\n\u001b[0;32m----> 8\u001b[0;31m \u001b[0mimage\u001b[0m \u001b[0;34m=\u001b[0m \u001b[0mImage\u001b[0m\u001b[0;34m.\u001b[0m\u001b[0mopen\u001b[0m\u001b[0;34m(\u001b[0m\u001b[0mimage_path\u001b[0m\u001b[0;34m)\u001b[0m\u001b[0;34m\u001b[0m\u001b[0;34m\u001b[0m\u001b[0m\n\u001b[0m\u001b[1;32m      9\u001b[0m \u001b[0;34m\u001b[0m\u001b[0m\n\u001b[1;32m     10\u001b[0m \u001b[0;31m# Set model to evaluation mode\u001b[0m\u001b[0;34m\u001b[0m\u001b[0;34m\u001b[0m\u001b[0m\n",
            "\u001b[0;32m/usr/local/lib/python3.11/dist-packages/PIL/Image.py\u001b[0m in \u001b[0;36mopen\u001b[0;34m(fp, mode, formats)\u001b[0m\n\u001b[1;32m   3463\u001b[0m \u001b[0;34m\u001b[0m\u001b[0m\n\u001b[1;32m   3464\u001b[0m     \u001b[0;32mif\u001b[0m \u001b[0mfilename\u001b[0m\u001b[0;34m:\u001b[0m\u001b[0;34m\u001b[0m\u001b[0;34m\u001b[0m\u001b[0m\n\u001b[0;32m-> 3465\u001b[0;31m         \u001b[0mfp\u001b[0m \u001b[0;34m=\u001b[0m \u001b[0mbuiltins\u001b[0m\u001b[0;34m.\u001b[0m\u001b[0mopen\u001b[0m\u001b[0;34m(\u001b[0m\u001b[0mfilename\u001b[0m\u001b[0;34m,\u001b[0m \u001b[0;34m\"rb\"\u001b[0m\u001b[0;34m)\u001b[0m\u001b[0;34m\u001b[0m\u001b[0;34m\u001b[0m\u001b[0m\n\u001b[0m\u001b[1;32m   3466\u001b[0m         \u001b[0mexclusive_fp\u001b[0m \u001b[0;34m=\u001b[0m \u001b[0;32mTrue\u001b[0m\u001b[0;34m\u001b[0m\u001b[0;34m\u001b[0m\u001b[0m\n\u001b[1;32m   3467\u001b[0m     \u001b[0;32melse\u001b[0m\u001b[0;34m:\u001b[0m\u001b[0;34m\u001b[0m\u001b[0;34m\u001b[0m\u001b[0m\n",
            "\u001b[0;31mFileNotFoundError\u001b[0m: [Errno 2] No such file or directory: '/content/drive/MyDrive/9.png'"
          ]
        }
      ]
    },
    {
      "cell_type": "code",
      "source": [
        "from google.colab import drive\n",
        "drive.mount('/content/drive')"
      ],
      "metadata": {
        "id": "B_zMVTu9Gj8G"
      },
      "execution_count": null,
      "outputs": []
    },
    {
      "cell_type": "markdown",
      "source": [
        "## Step 7: Save & Load our model\n",
        "\n",
        "We don't want to train our model every time we open up our program. Saving our model allows us to retrieve this model at a later time and use it.\n",
        "\n",
        "IMPORTANT: When loading the model, the architecture of the model must be defined first before loading."
      ],
      "metadata": {
        "id": "Ui50ucB8nFu8"
      }
    },
    {
      "cell_type": "code",
      "source": [
        "# TO-DO: Save the model to Google Drive\n",
        "torch.save(model.state_dict(), \"/content/ioaiModel.pth\")"
      ],
      "metadata": {
        "id": "72VSf4EZU7z8"
      },
      "execution_count": null,
      "outputs": []
    },
    {
      "cell_type": "code",
      "source": [
        "model = nn.Sequential(nn.Linear(28*28,28), nn.Linear(28, 10)).to(device)\n",
        "model.load_state_dict(torch.load(\"/content/ioaiModel.pth\"))"
      ],
      "metadata": {
        "id": "paPLx0wxU9q-"
      },
      "execution_count": null,
      "outputs": []
    },
    {
      "cell_type": "code",
      "source": [],
      "metadata": {
        "id": "P7MusF-oE3dG"
      },
      "execution_count": null,
      "outputs": []
    }
  ]
}