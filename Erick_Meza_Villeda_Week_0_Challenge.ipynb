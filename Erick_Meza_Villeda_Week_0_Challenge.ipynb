{
  "nbformat": 4,
  "nbformat_minor": 0,
  "metadata": {
    "colab": {
      "provenance": [],
      "include_colab_link": true
    },
    "kernelspec": {
      "name": "python3",
      "display_name": "Python 3"
    },
    "language_info": {
      "name": "python"
    }
  },
  "cells": [
    {
      "cell_type": "markdown",
      "metadata": {
        "id": "view-in-github",
        "colab_type": "text"
      },
      "source": [
        "<a href=\"https://colab.research.google.com/github/Erick-Meza/Erick-Meza/blob/main/Erick_Meza_Villeda_Week_0_Challenge.ipynb\" target=\"_parent\"><img src=\"https://colab.research.google.com/assets/colab-badge.svg\" alt=\"Open In Colab\"/></a>"
      ]
    },
    {
      "cell_type": "markdown",
      "source": [
        "# Intro to Python Challenge - Data Manipulation\n",
        "💡 You may use NumPy for these challenges to make calculations easier!\n"
      ],
      "metadata": {
        "id": "J_tR2ffbpr96"
      }
    },
    {
      "cell_type": "code",
      "source": [
        "import numpy as np"
      ],
      "metadata": {
        "id": "gLOWORxbuvAR"
      },
      "execution_count": null,
      "outputs": []
    },
    {
      "cell_type": "markdown",
      "source": [
        "### Challenge 1 (Easy): Create and Print a List\n",
        "- Print the entire list.\n",
        "- Print the first and last items from the list.\n",
        "- 💡 Hint: Use list indexing to access the first and last items."
      ],
      "metadata": {
        "id": "rmKLeGNTtill"
      }
    },
    {
      "cell_type": "code",
      "source": [
        "# Challenge 1: Print first and last items of the list\n",
        "fruits = [\"apple\", \"banana\", \"cherry\", \"orange\", \"grape\"]"
      ],
      "metadata": {
        "id": "jqNKmFNuumJ9"
      },
      "execution_count": null,
      "outputs": []
    },
    {
      "cell_type": "markdown",
      "source": [
        "### Challenge 2 (Easy): Add and Remove Items from the List\n",
        "- Add \"mango\" to the end of the fruits list using the append() method.\n",
        "Remove \"cherry\" from the list.\n",
        "Print the updated list."
      ],
      "metadata": {
        "id": "WK7uU2HUtrSG"
      }
    },
    {
      "cell_type": "code",
      "source": [
        "# Challenge 2: Add and Remove Items\n",
        "# Start with the original list\n",
        "fruits = [\"apple\", \"banana\", \"cherry\", \"orange\", \"grape\"]"
      ],
      "metadata": {
        "id": "ZuIBLSVbuzNf"
      },
      "execution_count": null,
      "outputs": []
    },
    {
      "cell_type": "markdown",
      "source": [
        "### Generating a random dataset\n"
      ],
      "metadata": {
        "id": "iNs3WedJt53t"
      }
    },
    {
      "cell_type": "code",
      "source": [
        "import random as random\n",
        "fruit_prices = {\n",
        "    \"apple\": round(random.uniform(1.0, 3.0), 2),\n",
        "    \"banana\": round(random.uniform(1.0, 3.0), 2),\n",
        "    \"orange\": round(random.uniform(1.0, 3.0), 2),\n",
        "    \"grape\": round(random.uniform(1.0, 3.0), 2)\n",
        "}\n",
        "\n",
        "print(\"Generated fruit prices:\", fruit_prices)"
      ],
      "metadata": {
        "id": "nbddS_8Ivbj8"
      },
      "execution_count": null,
      "outputs": []
    },
    {
      "cell_type": "markdown",
      "source": [
        "### Challenge 3 (Medium): Create and Manipulate a Dictionary (with a Generated Dataset)\n",
        "- Use the above code to print the fruit_prices dictionary\n",
        "- Add a an index for \"cherry\" and \"pineapple\" with random prices\n",
        "- Print the new dictionary\n"
      ],
      "metadata": {
        "id": "CihoeyE6t1wP"
      }
    },
    {
      "cell_type": "code",
      "source": [],
      "metadata": {
        "id": "SQ2CypSrvy6b"
      },
      "execution_count": null,
      "outputs": []
    },
    {
      "cell_type": "markdown",
      "source": [
        "### Challenge 4 (Medium): Calculate the Average Price\n",
        "- Calculate the average price of all the fruits in the fruit_prices dictionary.\n",
        "Print the result.\n",
        "💡 Hint: You can use NumPy’s mean() function for easier calculation, or sum() and len() if using basic Python."
      ],
      "metadata": {
        "id": "BC5yqiYOt9IL"
      }
    },
    {
      "cell_type": "code",
      "source": [],
      "metadata": {
        "id": "Swq-2Zr3u1hK"
      },
      "execution_count": null,
      "outputs": []
    },
    {
      "cell_type": "markdown",
      "source": [
        "### Challenge 5 (Hard): Filter, Transform, and Find Maximum Price (with a Generated Dataset)\n",
        "- Use the fruit_prices dictionary generated from Challenge 3.\n",
        "\n",
        "- Create a new dictionary called expensive_fruits that only contains fruits with prices greater than 2.0.\n",
        "💡 Use a dictionary comprehension for filtering.\n",
        "\n",
        "- Transform the prices of all fruits to a 10% discount and store the result in a new dictionary called discounted_prices.\n",
        "\n",
        "- Find the most expensive fruit in the original fruit_prices dictionary. Print its name and price.\n",
        "💡 Hint: Use the max() function with the key parameter.\n",
        "\n",
        "Challenge yourself to explore how NumPy can make your tasks easier!"
      ],
      "metadata": {
        "id": "E1fkk2HAuAJP"
      }
    },
    {
      "cell_type": "code",
      "source": [],
      "metadata": {
        "id": "ECuUF4m8u2Cm"
      },
      "execution_count": null,
      "outputs": []
    }
  ]
}